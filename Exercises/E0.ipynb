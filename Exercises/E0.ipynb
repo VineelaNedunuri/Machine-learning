{
 "cells": [
  {
   "attachments": {},
   "cell_type": "markdown",
   "metadata": {},
   "source": [
    "## 0. Simulate dataset \n",
    "\n",
    "Simulate datasets according to these rules:\n",
    "\n",
    "- set random seed to 42\n",
    "- (1000,2) samples from $X \\sim \\mathcal{U}(0,1)$ , i.e. 1000 rows, 2 columns. \n",
    "- 1000 samples from $\\epsilon \\sim \\mathcal{N}(0,1)$\n",
    "- $y = 3x_1 + 5x_2 + 3 + \\epsilon$ , where $x_i$ is column $i$ of $X$\n",
    "\n",
    "Finally add a column of ones for the intercept to $X$.\n",
    "\n"
   ]
  },
  {
   "cell_type": "code",
   "execution_count": null,
   "metadata": {},
   "outputs": [],
   "source": [
    "import pandas as pd\n",
    "import numpy as np\n",
    "import matplotlib.pyplot as plt\n",
    "\n",
    "np.random.seed(42) # set random seed to 42\n",
    "samples = 1000\n",
    "X= np.random.uniform(0,1,size = (samples,2)) # 1000 rows, 2 columns x~U(0,1)\n",
    "\n",
    "epsilon = np.random.normal(0,1, size = samples) # N(0,1)\n",
    "print(epsilon.shape, X.shape)\n",
    "\n",
    "x_1= X[:,0]\n",
    "x_2= X[:,1]\n",
    "\n",
    "y = (3*x_1+5* x_2+ 3 +epsilon).reshape(-1,1) # y = 3x_1 + 5x_2 + 3 + \\epsilon\n",
    "\n",
    "y.shape"
   ]
  }
 ],
 "metadata": {
  "kernelspec": {
   "display_name": "Machine-learning-tetaV3aO",
   "language": "python",
   "name": "python3"
  },
  "language_info": {
   "name": "python",
   "version": "3.9.13"
  },
  "orig_nbformat": 4,
  "vscode": {
   "interpreter": {
    "hash": "81a898db1c2a35772e01bd9285280d1a32f1c69381a19d2adcbd588089b435df"
   }
  }
 },
 "nbformat": 4,
 "nbformat_minor": 2
}
