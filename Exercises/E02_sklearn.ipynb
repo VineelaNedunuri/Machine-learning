{
 "cells": [
  {
   "attachments": {},
   "cell_type": "markdown",
   "metadata": {},
   "source": [
    "## 0. EDA \n",
    "\n",
    "In the whole exercise, we will work with the \"mpg\" dataset from seaborn dataset. Start by loading dataset \"mpg\" from the ```load_dataset``` method in seaborn module. The goal will be to use linear regression to predict mpg - miles per gallon. \n",
    "\n",
    "\n"
   ]
  },
  {
   "cell_type": "code",
   "execution_count": null,
   "metadata": {},
   "outputs": [],
   "source": [
    "import seaborn as sns\n",
    "\n",
    "# Load the \"mpg\" dataset\n",
    "df = sns.load_dataset(\"mpg\")\n",
    "\n",
    "# Print the first few rows of the dataset\n",
    "print(df.head())\n"
   ]
  },
  {
   "attachments": {},
   "cell_type": "markdown",
   "metadata": {},
   "source": [
    "&nbsp; a) Start by doing some initial EDA such as info(), describe() and figure out what you want to do with the missing values.\n",
    "\n"
   ]
  },
  {
   "cell_type": "code",
   "execution_count": null,
   "metadata": {},
   "outputs": [],
   "source": [
    "# a) Initial EDA\n",
    "df.info()"
   ]
  },
  {
   "cell_type": "code",
   "execution_count": null,
   "metadata": {},
   "outputs": [],
   "source": [
    "df.describe()"
   ]
  },
  {
   "cell_type": "code",
   "execution_count": null,
   "metadata": {},
   "outputs": [],
   "source": [
    "\n",
    "# Check for missing values\n",
    "df.isnull().sum()"
   ]
  },
  {
   "attachments": {},
   "cell_type": "markdown",
   "metadata": {},
   "source": [
    "&nbsp; b) Use describe only on those columns that are relevant to get statistical information from. \n",
    " "
   ]
  },
  {
   "cell_type": "code",
   "execution_count": null,
   "metadata": {},
   "outputs": [],
   "source": [
    "# b) Describe relevant columns\n",
    "df[['mpg', 'displacement', 'horsepower', 'weight', 'acceleration']].describe().T\n"
   ]
  },
  {
   "attachments": {},
   "cell_type": "markdown",
   "metadata": {},
   "source": [
    "\n",
    "&nbsp; c) Make some plots on some of the columns that you find interesting.\n",
    "\n"
   ]
  },
  {
   "cell_type": "code",
   "execution_count": null,
   "metadata": {},
   "outputs": [],
   "source": [
    "# c) Plot some interesting columns\n",
    "sns.pairplot(mpg_df[['mpg', 'displacement', 'horsepower', 'weight', 'acceleration']])\n",
    "sns.boxplot(data=mpg_df[['mpg', 'displacement', 'horsepower', 'weight', 'acceleration']])\n"
   ]
  },
  {
   "attachments": {},
   "cell_type": "markdown",
   "metadata": {},
   "source": [
    "&nbsp; d) Check if there are any columns you might want to drop."
   ]
  },
  {
   "cell_type": "code",
   "execution_count": null,
   "metadata": {},
   "outputs": [],
   "source": [
    "df.head()"
   ]
  }
 ],
 "metadata": {
  "kernelspec": {
   "display_name": "Machine-learning-tetaV3aO",
   "language": "python",
   "name": "python3"
  },
  "language_info": {
   "name": "python",
   "version": "3.9.13"
  },
  "orig_nbformat": 4,
  "vscode": {
   "interpreter": {
    "hash": "81a898db1c2a35772e01bd9285280d1a32f1c69381a19d2adcbd588089b435df"
   }
  }
 },
 "nbformat": 4,
 "nbformat_minor": 2
}
