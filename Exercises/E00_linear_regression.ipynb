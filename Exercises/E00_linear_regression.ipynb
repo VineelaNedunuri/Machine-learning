{
 "cells": [
  {
   "attachments": {},
   "cell_type": "markdown",
   "metadata": {},
   "source": [
    "## 0. Simulate phone dataset \n",
    "\n",
    "We want to simulate data $(x,y)$ to represent cost for phone subscriptions, with: \n",
    "\n",
    "- $x$ - called minutes per month\n",
    "- $y$ - SEK per month \n",
    "\n",
    "&nbsp; a) Use ```numpy.random.normal()``` to simulate a dataset with the following requirements:\n",
    "- set a seed to 42 (for reproducibility and reference)\n",
    "- simulate 400 x-values from the r.v. $X \\sim \\mathcal{N}(100, 100)$ \n",
    "- take absolute value of these x-values\n",
    "- simulate noise 400 noise values from r.v. $\\epsilon \\sim \\mathcal{N(0, 50)}$ \n",
    "- Let $y = 2x+25+\\epsilon$\n",
    "- plot the data set \n",
    "\n",
    "&nbsp; b) Now we want to remove some outliers according to this assumption: \n",
    "- no one talks more than 300 min using this type of subscription\n",
    "- no ones costs can be negative\n",
    "- plot the new dataset\n",
    "- also plot ground truth using the true parameters $\\beta_0 = 25, \\beta_1 = 2$\n",
    "\n",
    "&nbsp; c) Insert the values into a DataFrame \n",
    "\n"
   ]
  },
  {
   "cell_type": "code",
   "execution_count": null,
   "metadata": {},
   "outputs": [],
   "source": [
    "import pandas as pd\n",
    "import numpy as np\n",
    "from scipy import stats\n",
    "\n",
    "np.random.seed(seed=42)\n",
    "data=stats.norm.rvs(size=10, loc=67, scale=36)"
   ]
  }
 ],
 "metadata": {
  "kernelspec": {
   "display_name": "Machine-learning-tetaV3aO",
   "language": "python",
   "name": "python3"
  },
  "language_info": {
   "name": "python",
   "version": "3.9.13"
  },
  "orig_nbformat": 4,
  "vscode": {
   "interpreter": {
    "hash": "81a898db1c2a35772e01bd9285280d1a32f1c69381a19d2adcbd588089b435df"
   }
  }
 },
 "nbformat": 4,
 "nbformat_minor": 2
}
